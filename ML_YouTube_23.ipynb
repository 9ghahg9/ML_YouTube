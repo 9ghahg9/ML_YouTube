{
 "cells": [
  {
   "cell_type": "markdown",
   "metadata": {},
   "source": [
    "<제목>\n",
    "# 제목\n",
    "## 제목\n",
    "### 제목\n",
    "#### 제목\n",
    "\n",
    "<인용구>\n",
    "> 중요한 것은 꺾이지 않는 마음\n",
    "\n",
    "<순서 있는 목록>\n",
    "1. 첫번째\n",
    "2. 두번째\n",
    "3. 세번째\n",
    "\n",
    "<순서 없는 목록>\n",
    "-, *, +\n",
    "- 메인\n",
    "- 티모\n",
    "- 이즈리얼\n"
   ]
  },
  {
   "cell_type": "markdown",
   "metadata": {},
   "source": [
    "* Jupyter notebook math expression: https://khw11044.github.io/blog/blog-etc/2020-12-21-markdown-tutorial2/\n",
    "\n",
    "* 특수문자: https://namu.wiki/w/%EC%99%84%EC%84%B1%ED%98%95/%ED%8A%B9%EC%88%98%20%EB%AC%B8%EC%9E%90\n",
    "\n",
    "* HTML Color: https://www.html-color-codes.info/Korean/\n",
    "\n",
    "* Table or all: https://stackoverflow.com/questions/21892570/ipython-notebook-align-table-to-the-left-of-cell\n",
    "\n",
    "* 수학 기호(나무위키): https://namu.wiki/w/%EC%88%98%ED%95%99/%EC%95%BD%EC%96%B4%20%EB%B0%8F%20%EA%B8%B0%ED%98%B8\n",
    "\n",
    "* LaTex: https://t1.daumcdn.net/cfile/tistory/2368EB38563022381F\n",
    "\n",
    "* KaTex: https://katex.org/docs/supported.html"
   ]
  },
  {
   "cell_type": "markdown",
   "metadata": {},
   "source": [
    "# Backpropagation(I)"
   ]
  },
  {
   "cell_type": "markdown",
   "metadata": {},
   "source": [
    "## <span style=\"font-size:25px\"> Concept and principle</span>"
   ]
  },
  {
   "cell_type": "markdown",
   "metadata": {},
   "source": [
    "<img src=\"picture/ML_img_23_1.png\" alt=\"ML_img_23_1\" width=\"750\" height=\"350\">"
   ]
  },
  {
   "cell_type": "markdown",
   "metadata": {},
   "source": [
    "1. The partial derivative, such as $\\frac{\\partial\\text{E}}{{\\partial\\text{W}}^{(2)}}$, which represents how much the final error changes when the weight or bias changes,\n",
    "\n",
    "2. After separating the above equation into <span style=\"color:#F78181\">local derivatives</span> like ①, ②, and ③ <span style=\"color:#F78181\">using the \"chain rule\"</span>,\n",
    "\n",
    "3. This method of representing such <span style=\"color:#F78181\">local derivatives with mathematical formulas</span> for calculation is called<span style=\"font-size:20px\"><span style=\"color:#FE2E2E\"> Back_Propagation.</span></span>\n",
    "\n",
    "* <span style=\"font-size:15px\">Backpropagation enables fast calculations by evaluating mathematical formulas representing matrices, instead of using numerical differentiation.</span>"
   ]
  },
  {
   "cell_type": "markdown",
   "metadata": {},
   "source": [
    "## <span style=\"font-size:25px\">Linear regression value of each layer (z) / Output value of each layer (a)</span>"
   ]
  },
  {
   "cell_type": "markdown",
   "metadata": {},
   "source": [
    "<img src=\"picture/ML_img_23_2.png\" alt=\"ML_img_23_2\" width=\"800\" height=\"300\">"
   ]
  },
  {
   "cell_type": "markdown",
   "metadata": {},
   "source": [
    "|         | 선형회귀값 (z) | 출력 값 (a) |\n",
    "|:--------:|:-------------:|:-----------:|\n",
    "|  입력층  | 입력 층에는 가중치가 없기 때문에<br> 선형회귀 값은 적용하지 않음 | $a{_1}^{(1)} = x{_1} \\quad a{_2}^{(1)} = x{_2}$ |\n",
    "|  은닉층  | $z{_1}^{(2)} = a{_1}^{(1)}W{_{11}}^{(2)} + a{_2}^{(1)}W{_{12}}^{(2)} + b{_1}^{(2)}$ <br> $z{_2}^{(2)} = a{_1}^{(1)}W{_{21}}^{(2)} + a{_2}^{(1)}W{_{22}}^{(2)} + b{_2}^{(2)}$ | $a{_1}^{(2)} = \\text{sigmoid}(z{_1}^{(2)})$ <br> $a{_2}^{(2)} = \\text{sigmoid}(z{_2}^{(2)})$ |\n",
    "|  출력층  | $z{_1}^{(3)} = a{_1}^{(2)}W{_{11}}^{(3)} + a{_2}^{(2)}W{_{12}}^{(3)} + b{_1}^{(3)}$ <br> $z{_2}^{(3)} = a{_1}^{(2)}W{_{21}}^{(3)} + a{_2}^{(2)}W{_{22}}^{(3)} + b{_2}^{(3)}$ | $a{_1}^{(3)} = \\text{sigmoid}(z{_1}^{(3)})$ <br> $a{_2}^{(3)} = \\text{sigmoid}(z{_2}^{(3)})$ |"
   ]
  },
  {
   "cell_type": "markdown",
   "metadata": {},
   "source": [
    "## <span style=\"font-size:25px\">Sigmoid function differentiation</span>"
   ]
  },
  {
   "cell_type": "markdown",
   "metadata": {},
   "source": [
    "<img src=\"picture/ML_img_23_3.png\" alt=\"ML_img_23_3\" width=\"800\" height=\"250\">"
   ]
  },
  {
   "cell_type": "markdown",
   "metadata": {},
   "source": [
    "| Derivative of the sigmoid function | Use case |\n",
    "|:-----------------------------------|:---------|\n",
    "| $\\frac{\\partial \\text{sigmoid}(z)}{\\partial z} = \\frac{∂}{∂z} (\\frac{1}{1 + e^{-z}})$ <br><br> $= \\frac{∂}{∂z} ({1 + e^{-z}})^{-1}$ <br><br> $= \\frac{e^{-z}}{(1 + e^{-z})^2}$ <br><br> $= \\frac{1}{(1 + e^{-z})} × (\\frac{e^{-z}}{1 + e^{-z}})$ <br><br> $= \\frac{1}{(1 + e^{-z})} × (\\frac{(1 + e^{-z}) - 1}{1 + e^{-z}})$ <br><br> $= \\frac{1}{(1 + e^{-z})} × (1 - \\frac{1}{1 + e^{-z}})$ <br><br> $= \\text{sigmoid}(z) × (1 - \\text{sigmoid}(z))$ | $\\frac{\\partial\\text{E}_{1}}{\\partial\\text{W}_{11}^{(3)}} = \\frac{\\partial\\text{E}_1}{\\partial\\text{a}_1^{(3)}} × \\frac{\\partial\\text{a}_1^{(3)}}{\\partial\\text{z}_1^{(3)}} × \\frac{\\partial\\text{z}_1^{(3)}}{\\partial\\text{W}_{11}^{(3)}}$ <br><br> $= \\frac{\\partial\\text{E}_1}{\\partial\\text{a}_1^{(3)}} × \\frac{\\partial \\text{sigmoid}(\\partial\\text{z}_1^{(3)})}{\\partial\\text{z}_1^{(3)}} × \\frac{\\partial\\text{z}_1^{(3)}}{\\partial\\text{W}_{11}^{(3)}}$ <br><br> $= \\frac{\\partial\\text{E}_1}{\\partial\\text{a}_1^{(3)}} × \\text{sigmoid}(\\partial\\text{z}_1^{(3)}) $<br>$ \\times (1 - \\text{sigmoid}(\\partial\\text{z}_1^{(3)})) × \\frac{\\partial\\text{z}_1^{(3)}}{\\partial\\text{W}_{11}^{(3)}}$ <br><br> $= \\frac{\\partial\\text{E}_1}{\\partial\\text{a}_1^{(3)}} × \\partial\\text{a}_1^{(3)} × (1 - \\partial\\text{a}_1^{(3)}) × \\frac{\\partial\\text{z}_1^{(3)}}{\\partial\\text{W}_{11}^{(3)}}$"
   ]
  },
  {
   "cell_type": "markdown",
   "metadata": {},
   "source": [
    "## <span style=\"font-size:25px\"> Final loss (error) value E, weight W, bias b</span>"
   ]
  },
  {
   "cell_type": "markdown",
   "metadata": {},
   "source": [
    "<img src=\"picture/ML_img_23_4.png\" alt=\"ML_img_23_4\" width=\"800\" height=\"250\">"
   ]
  },
  {
   "cell_type": "markdown",
   "metadata": {},
   "source": [
    "* Final loss value: \n",
    "$\n",
    "\\text{E} = \\frac 1n \\sum_{i=1}^n \\left(\n",
    "    t_i^{(\\text{out\\_layer})} - a_i^{(\\text{out\\_layer})}\n",
    "\\right)^2 \\\\\n",
    "  = \\frac 1n \\left[\n",
    "    (t_1^{(\\text{out\\_layer})} - a_1^{(\\text{out\\_layer})})^2 + \n",
    "    (t_2^{(\\text{out\\_layer})} - a_2^{(\\text{out\\_layer})})^2 + ... + \n",
    "    (t_n^{(\\text{out\\_layer})} - a_n^{(\\text{out\\_layer})})^2\n",
    "\\right] \\\\\n",
    "  = \\text{E}_1 + \\text{E}_2 + ... + \\text{E}_n \\\\\n",
    "  \\Rightarrow \\text{E}_1 = \\frac 12 (t_1^{(3)} - a_1^{(3)})^2, \\:\\: \\text{E}_2 = \\frac 12 (t_2^{(3)} - a_2^{(3)})^2\n",
    "$\n",
    "\n",
    "* $\\text {W}^{(2)}, \\: \\text {W}^{(3)}, \\: \\text {b}^{(2)}, \\: \\text {b}^{(3)}: $\n",
    "\n",
    "$\n",
    "\\text{W}^{(2)} =\n",
    "\\begin{bmatrix}\n",
    "\\text{W}_{11}^{(2)} & \\text{W}_{21}^{(2)}\\\\\n",
    "\\text{W}_{12}^{(2)} & \\text{W}_{22}^{(2)}\n",
    "\\end{bmatrix},\n",
    "\\quad\n",
    "\\text{b}^{(2)} =\n",
    "\\begin{bmatrix}\n",
    "\\text{b}_1^{(2)} & \\text{b}_2^{(2)}\n",
    "\\end{bmatrix},\n",
    "$\n",
    "<br>\n",
    "$\n",
    "\\text{W}^{(3)} =\n",
    "\\begin{bmatrix}\n",
    "\\text{W}_{11}^{(3)} & \\text{W}_{21}^{(3)}\\\\\n",
    "\\text{W}_{12}^{(3)} & \\text{W}_{22}^{(3)}\n",
    "\\end{bmatrix},\n",
    "\\quad\n",
    "\\text{b}^{(3)} =\n",
    "\\begin{bmatrix}\n",
    "\\text{b}_1^{(3)} & \\text{b}_2^{(3)}\n",
    "\\end{bmatrix}.\n",
    "$\n",
    "\n",
    "* Training W, b: <br><br>\n",
    "$\n",
    "\\text{W}^{(p)} = \\text{W}^{(p)} - \\alpha \\frac {\\partial \\text{E}}{\\partial \\text{W}^{(3)}}, $<br>$\n",
    "\\text{b}^{(p)} = \\text{b}^{(p)} - \\alpha \\frac {\\partial \\text{E}}{\\partial \\text{b}^{(3)}}, $<br>$\n",
    "p \\in \\{1, 2\\}.\n",
    "$"
   ]
  }
 ],
 "metadata": {
  "kernelspec": {
   "display_name": "Python 3",
   "language": "python",
   "name": "python3"
  },
  "language_info": {
   "codemirror_mode": {
    "name": "ipython",
    "version": 3
   },
   "file_extension": ".py",
   "mimetype": "text/x-python",
   "name": "python",
   "nbconvert_exporter": "python",
   "pygments_lexer": "ipython3",
   "version": "3.13.1"
  }
 },
 "nbformat": 4,
 "nbformat_minor": 2
}
