{
 "cells": [
  {
   "cell_type": "markdown",
   "metadata": {},
   "source": [
    "# CNN(III)"
   ]
  },
  {
   "cell_type": "markdown",
   "metadata": {},
   "source": [
    "## <span style=\"font-size:25px\">CNN architecture</span>"
   ]
  },
  {
   "cell_type": "markdown",
   "metadata": {},
   "source": [
    "<img src=\"picture/ML_img_34_1.png\" alt=\"ML_img_34_1\" width=750 height=400>"
   ]
  },
  {
   "cell_type": "markdown",
   "metadata": {},
   "source": [
    "### <span style=\"font-size:20px\">TensorFlow API tf.nn.conv2d(⋯)</span>"
   ]
  },
  {
   "cell_type": "markdown",
   "metadata": {},
   "source": [
    "<img src=\"picture/ML_img_34_2.png\" alt=\"ML_img_34_2\" width=750 height=350>"
   ]
  },
  {
   "cell_type": "markdown",
   "metadata": {},
   "source": [
    "### <span style=\"font-size:20px\">TensorFlow API tf.nn.max_pool(⋯)</span>"
   ]
  },
  {
   "cell_type": "markdown",
   "metadata": {},
   "source": [
    "<img src=\"picture/ML_img_34_3.png\" alt=\"ML_img_34_3\" width=750 height=350>"
   ]
  },
  {
   "cell_type": "markdown",
   "metadata": {},
   "source": [
    "## <span style=\"font-size:25px\">CNN operation</span>"
   ]
  },
  {
   "cell_type": "code",
   "execution_count": 2,
   "metadata": {},
   "outputs": [],
   "source": [
    "import numpy as np\n",
    "import tensorflow as tf"
   ]
  },
  {
   "cell_type": "code",
   "execution_count": 3,
   "metadata": {},
   "outputs": [],
   "source": [
    "tf.compat.v1.disable_eager_execution()\n",
    "tfv1 = tf.compat.v1\n",
    "tfv2 = tf"
   ]
  },
  {
   "cell_type": "code",
   "execution_count": 4,
   "metadata": {},
   "outputs": [
    {
     "name": "stdout",
     "output_type": "stream",
     "text": [
      "train image shape = (55000, 784)\n",
      "train label shape = (55000, 10)\n",
      "test image shape = (10000, 784)\n",
      "test label shape = (10000, 10)\n"
     ]
    }
   ],
   "source": [
    "mnist = tf.keras.datasets.mnist\n",
    "\n",
    "(mnist_train_images, mnist_train_labels), (mnist_test_images, mnist_test_labels) = mnist.load_data()\n",
    "\n",
    "mnist_train_images = mnist_train_images.reshape((60000, 784)) / 255.0\n",
    "mnist_test_images = mnist_test_images.reshape((10000,784)) / 255.0\n",
    "\n",
    "mnist_val_images = mnist_train_images[-5000:]\n",
    "mnist_val_labels = mnist_train_labels[-5000:]\n",
    "mnist_train_images = mnist_train_images[:55000]\n",
    "mnist_train_labels = mnist_train_labels[:55000]\n",
    "\n",
    "\n",
    "mnist_train_labels = tf.keras.utils.to_categorical(mnist_train_labels, 10)\n",
    "mnist_test_labels = tf.keras.utils.to_categorical(mnist_test_labels, 10)\n",
    "\n",
    "print(\"train image shape =\", mnist_train_images.shape)\n",
    "print(\"train label shape =\", mnist_train_labels.shape)\n",
    "print(\"test image shape =\", mnist_test_images.shape)\n",
    "print(\"test label shape =\", mnist_test_labels.shape)"
   ]
  },
  {
   "cell_type": "code",
   "execution_count": 6,
   "metadata": {},
   "outputs": [],
   "source": [
    "# Hyper-Parameter\n",
    "learning_rate = 1e-3\n",
    "epochs = 30\n",
    "batch_size = 100"
   ]
  },
  {
   "cell_type": "code",
   "execution_count": 18,
   "metadata": {},
   "outputs": [],
   "source": [
    "X = tfv1.placeholder(tfv1.float32, [None, 784])\n",
    "T = tfv1.placeholder(tfv1.float32, [None, 10])\n",
    "\n",
    "A1 = X_img = tfv1.reshape(X, [-1, 28, 28, 1])"
   ]
  },
  {
   "cell_type": "markdown",
   "metadata": {},
   "source": [
    "tf.reshape(X, [ batch_size (0), height (1), width (2), channels (3) ])\n",
    "\n",
    "$\n",
    "\\begin{array}{|l|c|l|}\n",
    "\\hline\n",
    "\\textbf{차원 번호} & \\textbf{값} & \\textbf{의미} \\\\\n",
    "\\hline\n",
    "0 & -1 & \\text{배치 크기(batch size): 입력 데이터의 개수. -1은 크기를 자동으로 계산하라는 의미.} \\\\\n",
    "\\hline\n",
    "1 & 28 & \\text{이미지 높이(height): 이미지의 세로 픽셀 크기.} \\\\\n",
    "\\hline\n",
    "2 & 28 & \\text{이미지 너비(width): 이미지의 가로 픽셀 크기.} \\\\\n",
    "\\hline\n",
    "3 & 1 & \\text{채널 수(channels): 흑백 이미지는 채널이 1개. (RGB 이미지는 채널이 3개)} \\\\\n",
    "\\hline\n",
    "\\end{array}\n",
    "$"
   ]
  },
  {
   "cell_type": "code",
   "execution_count": 19,
   "metadata": {},
   "outputs": [],
   "source": [
    "# 1st convolutional layer\n",
    "# 3X3 size, 32 filters\n",
    "\n",
    "# [height = 3, width = 3, number of input channels = 1, number of output channels = 32], stddev(표준편차)\n",
    "F2 = tfv1.Variable(tfv1.random_normal([3, 3, 1, 32], stddev=1e-2))\n",
    "b2 = tfv1.Variable(tfv1.constant(0.1, shape=[32]))  # + 0.1.shape(32)\n",
    "\n",
    "# (28 X 28) X 1, through 1st convolution operation => (28 X 28) X 1\n",
    "C2 = tfv1.nn.conv2d(A1, F2, strides=[1, 1, 1, 1], padding='SAME')\n",
    "\n",
    "# relu\n",
    "Z2 = tfv1.nn.relu(C2 + b2)\n",
    "\n",
    "# (28 X 28) X 32, through 1st convolution operation => (14 X 14) X 32\n",
    "A2 = P2 = tfv1.nn.max_pool(Z2, ksize=[1, 2, 2, 1], strides=[1, 2, 2, 1], padding='SAME')"
   ]
  },
  {
   "cell_type": "code",
   "execution_count": 20,
   "metadata": {},
   "outputs": [],
   "source": [
    "# 2ed convolutional layer\n",
    "# 3X3 size, 64 filters\n",
    "\n",
    "# [height = 3, width = 3, number of input channels = 32, number of output channels = 64], stddev(표준편차)\n",
    "F3 = tfv1.Variable(tfv1.random_normal([3, 3, 32, 64], stddev=1e-2))\n",
    "b3 = tfv1.Variable(tfv1.constant(0.1, shape=[64]))  # + 0.1.shape(64)\n",
    "\n",
    "# (14 X 14) X 32, through 2ed convolution operation => (14 X 14) X 64\n",
    "C3 = tfv1.nn.conv2d(A2, F3, strides=[1, 1, 1, 1], padding='SAME')\n",
    "\n",
    "# relu\n",
    "Z3 = tfv1.nn.relu(C3 + b3)\n",
    "\n",
    "# (14 X 14) X 64, through 1st convolution operation => (7 X 7) X 64\n",
    "A3 = P3 = tfv1.nn.max_pool(Z3, ksize=[1, 2, 2, 1], strides=[1, 2, 2, 1], padding='SAME')"
   ]
  },
  {
   "cell_type": "code",
   "execution_count": 21,
   "metadata": {},
   "outputs": [],
   "source": [
    "# 3rd convolutional layer\n",
    "# 3X3 size, 128 filters\n",
    "\n",
    "# [height = 3, width = 3, number of input channels = 64, number of output channels = 128], stddev(표준편차)\n",
    "F4 = tfv1.Variable(tfv1.random_normal([3, 3, 64, 128], stddev=1e-2))\n",
    "b4 = tfv1.Variable(tfv1.constant(0.1, shape=[128]))  # + 0.1.shape(128)\n",
    "\n",
    "# (7 X 7) X 64, through 2ed convolution operation => (7 X 7) X 128\n",
    "C4 = tfv1.nn.conv2d(A3, F4, strides=[1, 1, 1, 1], padding='SAME')\n",
    "\n",
    "# relu\n",
    "Z4 = tfv1.nn.relu(C4 + b4)\n",
    "\n",
    "# (7 X 7) X 128, through 1st convolution operation => (4 X 4) X 128\n",
    "A4 = P4 = tfv1.nn.max_pool(Z4, ksize=[1, 2, 2, 1], strides=[1, 2, 2, 1], padding='SAME')"
   ]
  },
  {
   "cell_type": "code",
   "execution_count": 22,
   "metadata": {},
   "outputs": [],
   "source": [
    "# 4 X 4 size, 128 tensor. activation map => 'flatten'\n",
    "A4_flat = P4_falt = tfv1.reshape(A4, [-1, 128 * 4 * 4])"
   ]
  },
  {
   "cell_type": "code",
   "execution_count": 23,
   "metadata": {},
   "outputs": [],
   "source": [
    "# output layer\n",
    "W5 = tfv1.Variable(tfv1.random_normal([128 * 4 * 4, 10], stddev=1e-2))\n",
    "b5 = tfv1.Variable(tfv1.random_normal([10]))\n",
    "\n",
    "Z5 = logits = tfv1.matmul(A4_flat, W5) + b5\n",
    "\n",
    "y = A5 = tfv1.nn.softmax(Z5)"
   ]
  },
  {
   "cell_type": "code",
   "execution_count": 25,
   "metadata": {},
   "outputs": [],
   "source": [
    "# loss, train\n",
    "loss = tfv1.reduce_mean(tfv1.nn.softmax_cross_entropy_with_logits_v2(logits=Z5, labels=T))\n",
    "\n",
    "optimizer = tfv1.train.AdamOptimizer(learning_rate)\n",
    "\n",
    "train = optimizer.minimize(loss)"
   ]
  },
  {
   "cell_type": "code",
   "execution_count": 26,
   "metadata": {},
   "outputs": [],
   "source": [
    "predicted_val = tfv1.equal(tfv1.argmax(A5, 1), tfv1.argmax(T, 1))\n",
    "\n",
    "accuracy = tfv1.reduce_mean(tfv1.cast(predicted_val, dtype=tfv1.float32))"
   ]
  },
  {
   "cell_type": "code",
   "execution_count": 28,
   "metadata": {},
   "outputs": [
    {
     "name": "stdout",
     "output_type": "stream",
     "text": [
      "epochs = 0 , step = 0 , loss_val = 2.904781\n",
      "epochs = 0 , step = 100 , loss_val = 2.1099846\n",
      "epochs = 0 , step = 200 , loss_val = 0.40156376\n",
      "epochs = 0 , step = 300 , loss_val = 0.12740168\n",
      "epochs = 0 , step = 400 , loss_val = 0.18652335\n",
      "epochs = 0 , step = 500 , loss_val = 0.08696632\n",
      "epochs = 1 , step = 0 , loss_val = 0.037874978\n",
      "epochs = 1 , step = 100 , loss_val = 0.041739758\n",
      "epochs = 1 , step = 200 , loss_val = 0.41375017\n",
      "epochs = 1 , step = 300 , loss_val = 0.078922026\n",
      "epochs = 1 , step = 400 , loss_val = 0.014992103\n",
      "epochs = 1 , step = 500 , loss_val = 0.17424253\n",
      "epochs = 2 , step = 0 , loss_val = 0.040039428\n",
      "epochs = 2 , step = 100 , loss_val = 0.058241043\n",
      "epochs = 2 , step = 200 , loss_val = 0.02626078\n",
      "epochs = 2 , step = 300 , loss_val = 0.307979\n",
      "epochs = 2 , step = 400 , loss_val = 0.16413781\n",
      "epochs = 2 , step = 500 , loss_val = 0.018653393\n",
      "epochs = 3 , step = 0 , loss_val = 0.009514137\n",
      "epochs = 3 , step = 100 , loss_val = 0.11681468\n",
      "epochs = 3 , step = 200 , loss_val = 0.1612205\n",
      "epochs = 3 , step = 300 , loss_val = 0.0043520415\n",
      "epochs = 3 , step = 400 , loss_val = 0.07653122\n",
      "epochs = 3 , step = 500 , loss_val = 0.038572524\n",
      "epochs = 4 , step = 0 , loss_val = 0.0064371047\n",
      "epochs = 4 , step = 100 , loss_val = 0.031964596\n",
      "epochs = 4 , step = 200 , loss_val = 0.016339077\n",
      "epochs = 4 , step = 300 , loss_val = 0.06558224\n",
      "epochs = 4 , step = 400 , loss_val = 0.0038753178\n",
      "epochs = 4 , step = 500 , loss_val = 0.0037823638\n",
      "epochs = 5 , step = 0 , loss_val = 0.07789041\n",
      "epochs = 5 , step = 100 , loss_val = 0.05013152\n",
      "epochs = 5 , step = 200 , loss_val = 0.00035942456\n",
      "epochs = 5 , step = 300 , loss_val = 0.00022734363\n",
      "epochs = 5 , step = 400 , loss_val = 0.009338017\n",
      "epochs = 5 , step = 500 , loss_val = 0.1037637\n",
      "epochs = 6 , step = 0 , loss_val = 0.0067086346\n",
      "epochs = 6 , step = 100 , loss_val = 0.0021275142\n",
      "epochs = 6 , step = 200 , loss_val = 0.04518849\n",
      "epochs = 6 , step = 300 , loss_val = 0.0062126024\n",
      "epochs = 6 , step = 400 , loss_val = 0.05700474\n",
      "epochs = 6 , step = 500 , loss_val = 0.021452826\n",
      "epochs = 7 , step = 0 , loss_val = 0.021513302\n",
      "epochs = 7 , step = 100 , loss_val = 0.01153669\n",
      "epochs = 7 , step = 200 , loss_val = 0.0007829942\n",
      "epochs = 7 , step = 300 , loss_val = 0.014413286\n",
      "epochs = 7 , step = 400 , loss_val = 0.0029765363\n",
      "epochs = 7 , step = 500 , loss_val = 0.0010320782\n",
      "epochs = 8 , step = 0 , loss_val = 0.12224035\n",
      "epochs = 8 , step = 100 , loss_val = 0.0077222507\n",
      "epochs = 8 , step = 200 , loss_val = 0.0116820745\n",
      "epochs = 8 , step = 300 , loss_val = 0.022585144\n",
      "epochs = 8 , step = 400 , loss_val = 0.024237001\n",
      "epochs = 8 , step = 500 , loss_val = 0.004084377\n",
      "epochs = 9 , step = 0 , loss_val = 0.00080163794\n",
      "epochs = 9 , step = 100 , loss_val = 0.124669924\n",
      "epochs = 9 , step = 200 , loss_val = 0.0067167585\n",
      "epochs = 9 , step = 300 , loss_val = 0.0028745618\n",
      "epochs = 9 , step = 400 , loss_val = 0.19976868\n",
      "epochs = 9 , step = 500 , loss_val = 0.07373747\n",
      "epochs = 10 , step = 0 , loss_val = 0.051047873\n",
      "epochs = 10 , step = 100 , loss_val = 0.0009003231\n",
      "epochs = 10 , step = 200 , loss_val = 0.027923489\n",
      "epochs = 10 , step = 300 , loss_val = 0.0070888507\n",
      "epochs = 10 , step = 400 , loss_val = 0.008388041\n",
      "epochs = 10 , step = 500 , loss_val = 0.0031252638\n",
      "epochs = 11 , step = 0 , loss_val = 0.007999662\n",
      "epochs = 11 , step = 100 , loss_val = 0.04189975\n",
      "epochs = 11 , step = 200 , loss_val = 0.013477731\n",
      "epochs = 11 , step = 300 , loss_val = 0.033371642\n",
      "epochs = 11 , step = 400 , loss_val = 0.0023958187\n",
      "epochs = 11 , step = 500 , loss_val = 0.00019782544\n",
      "epochs = 12 , step = 0 , loss_val = 0.016994016\n",
      "epochs = 12 , step = 100 , loss_val = 0.003012326\n",
      "epochs = 12 , step = 200 , loss_val = 0.002368054\n",
      "epochs = 12 , step = 300 , loss_val = 0.011015806\n",
      "epochs = 12 , step = 400 , loss_val = 0.025013825\n",
      "epochs = 12 , step = 500 , loss_val = 4.628556e-05\n",
      "epochs = 13 , step = 0 , loss_val = 0.005334832\n",
      "epochs = 13 , step = 100 , loss_val = 0.0090949135\n",
      "epochs = 13 , step = 200 , loss_val = 0.011637115\n",
      "epochs = 13 , step = 300 , loss_val = 0.003859435\n",
      "epochs = 13 , step = 400 , loss_val = 0.003007952\n",
      "epochs = 13 , step = 500 , loss_val = 0.007835754\n",
      "epochs = 14 , step = 0 , loss_val = 0.008524042\n",
      "epochs = 14 , step = 100 , loss_val = 0.0011028707\n",
      "epochs = 14 , step = 200 , loss_val = 0.0005393771\n",
      "epochs = 14 , step = 300 , loss_val = 0.0012580401\n",
      "epochs = 14 , step = 400 , loss_val = 0.001502719\n",
      "epochs = 14 , step = 500 , loss_val = 0.0008071011\n",
      "epochs = 15 , step = 0 , loss_val = 0.0065729585\n",
      "epochs = 15 , step = 100 , loss_val = 0.04274621\n",
      "epochs = 15 , step = 200 , loss_val = 3.3355507e-05\n",
      "epochs = 15 , step = 300 , loss_val = 0.000119016135\n",
      "epochs = 15 , step = 400 , loss_val = 0.0020162566\n",
      "epochs = 15 , step = 500 , loss_val = 0.010930539\n",
      "epochs = 16 , step = 0 , loss_val = 0.0062513663\n",
      "epochs = 16 , step = 100 , loss_val = 0.026907714\n",
      "epochs = 16 , step = 200 , loss_val = 7.544859e-05\n",
      "epochs = 16 , step = 300 , loss_val = 0.002324599\n",
      "epochs = 16 , step = 400 , loss_val = 0.016352428\n",
      "epochs = 16 , step = 500 , loss_val = 0.097365595\n",
      "epochs = 17 , step = 0 , loss_val = 0.001452304\n",
      "epochs = 17 , step = 100 , loss_val = 0.03834417\n",
      "epochs = 17 , step = 200 , loss_val = 0.001098703\n",
      "epochs = 17 , step = 300 , loss_val = 0.00076452567\n",
      "epochs = 17 , step = 400 , loss_val = 0.0083492305\n",
      "epochs = 17 , step = 500 , loss_val = 0.030593848\n",
      "epochs = 18 , step = 0 , loss_val = 0.026075933\n",
      "epochs = 18 , step = 100 , loss_val = 0.0001564273\n",
      "epochs = 18 , step = 200 , loss_val = 0.004513384\n",
      "epochs = 18 , step = 300 , loss_val = 0.0015542947\n",
      "epochs = 18 , step = 400 , loss_val = 0.024962617\n",
      "epochs = 18 , step = 500 , loss_val = 0.0006850596\n",
      "epochs = 19 , step = 0 , loss_val = 0.0005588449\n",
      "epochs = 19 , step = 100 , loss_val = 0.004518421\n",
      "epochs = 19 , step = 200 , loss_val = 0.0016199662\n",
      "epochs = 19 , step = 300 , loss_val = 9.330792e-05\n",
      "epochs = 19 , step = 400 , loss_val = 0.0006239252\n",
      "epochs = 19 , step = 500 , loss_val = 0.0060647777\n",
      "epochs = 20 , step = 0 , loss_val = 0.0008917154\n",
      "epochs = 20 , step = 100 , loss_val = 0.045356803\n",
      "epochs = 20 , step = 200 , loss_val = 0.009752631\n",
      "epochs = 20 , step = 300 , loss_val = 0.010940399\n",
      "epochs = 20 , step = 400 , loss_val = 0.033403654\n",
      "epochs = 20 , step = 500 , loss_val = 8.932056e-05\n",
      "epochs = 21 , step = 0 , loss_val = 0.0087002255\n",
      "epochs = 21 , step = 100 , loss_val = 0.059686977\n",
      "epochs = 21 , step = 200 , loss_val = 8.071011e-05\n",
      "epochs = 21 , step = 300 , loss_val = 0.00018834454\n",
      "epochs = 21 , step = 400 , loss_val = 8.851297e-05\n",
      "epochs = 21 , step = 500 , loss_val = 2.3671817e-05\n",
      "epochs = 22 , step = 0 , loss_val = 0.00021819606\n",
      "epochs = 22 , step = 100 , loss_val = 7.986591e-05\n",
      "epochs = 22 , step = 200 , loss_val = 9.690337e-05\n",
      "epochs = 22 , step = 300 , loss_val = 0.00016481327\n",
      "epochs = 22 , step = 400 , loss_val = 0.0024631126\n",
      "epochs = 22 , step = 500 , loss_val = 0.009344993\n",
      "epochs = 23 , step = 0 , loss_val = 0.00037126534\n",
      "epochs = 23 , step = 100 , loss_val = 0.00028937077\n",
      "epochs = 23 , step = 200 , loss_val = 0.0016529205\n",
      "epochs = 23 , step = 300 , loss_val = 0.0005056066\n",
      "epochs = 23 , step = 400 , loss_val = 0.007212291\n",
      "epochs = 23 , step = 500 , loss_val = 0.0010844048\n",
      "epochs = 24 , step = 0 , loss_val = 0.0037390988\n",
      "epochs = 24 , step = 100 , loss_val = 0.00827726\n",
      "epochs = 24 , step = 200 , loss_val = 0.0053438446\n",
      "epochs = 24 , step = 300 , loss_val = 0.021571063\n",
      "epochs = 24 , step = 400 , loss_val = 0.06724044\n",
      "epochs = 24 , step = 500 , loss_val = 0.006344077\n",
      "epochs = 25 , step = 0 , loss_val = 0.0010913308\n",
      "epochs = 25 , step = 100 , loss_val = 0.00032541834\n",
      "epochs = 25 , step = 200 , loss_val = 0.052133095\n",
      "epochs = 25 , step = 300 , loss_val = 0.00034829386\n",
      "epochs = 25 , step = 400 , loss_val = 2.0211903e-05\n",
      "epochs = 25 , step = 500 , loss_val = 0.0042984057\n",
      "epochs = 26 , step = 0 , loss_val = 0.0031422137\n",
      "epochs = 26 , step = 100 , loss_val = 0.021570925\n",
      "epochs = 26 , step = 200 , loss_val = 0.00051036134\n",
      "epochs = 26 , step = 300 , loss_val = 0.051558275\n",
      "epochs = 26 , step = 400 , loss_val = 0.0040310114\n",
      "epochs = 26 , step = 500 , loss_val = 0.00015098478\n",
      "epochs = 27 , step = 0 , loss_val = 9.099361e-06\n",
      "epochs = 27 , step = 100 , loss_val = 0.00067673385\n",
      "epochs = 27 , step = 200 , loss_val = 0.012767429\n",
      "epochs = 27 , step = 300 , loss_val = 0.0008750467\n",
      "epochs = 27 , step = 400 , loss_val = 0.0041716783\n",
      "epochs = 27 , step = 500 , loss_val = 0.0002429209\n",
      "epochs = 28 , step = 0 , loss_val = 0.00015682369\n",
      "epochs = 28 , step = 100 , loss_val = 0.09920052\n",
      "epochs = 28 , step = 200 , loss_val = 9.447872e-05\n",
      "epochs = 28 , step = 300 , loss_val = 0.0051377756\n",
      "epochs = 28 , step = 400 , loss_val = 0.00018210041\n",
      "epochs = 28 , step = 500 , loss_val = 0.049213063\n",
      "epochs = 29 , step = 0 , loss_val = 0.026174627\n",
      "epochs = 29 , step = 100 , loss_val = 0.0014123198\n",
      "epochs = 29 , step = 200 , loss_val = 0.0010588655\n",
      "epochs = 29 , step = 300 , loss_val = 8.157333e-06\n",
      "epochs = 29 , step = 400 , loss_val = 6.854921e-05\n",
      "epochs = 29 , step = 500 , loss_val = 0.18517467\n",
      "\n",
      "Accuracy = 0.9907\n"
     ]
    }
   ],
   "source": [
    "with tfv1.Session() as sess:\n",
    "    sess.run(tfv1.global_variables_initializer())\n",
    "\n",
    "    for i in range(epochs):\n",
    "        total_batch = int(len(mnist_train_images) / batch_size)\n",
    "\n",
    "        for step in range(total_batch):\n",
    "            indicate = np.random.permutation(len(mnist_train_images))[:30]\n",
    "            batch_x_data, batch_t_data = mnist_train_images[indicate], mnist_train_labels[indicate]\n",
    "\n",
    "            loss_val, _ = sess.run([loss, train], feed_dict={X: batch_x_data, T: batch_t_data})\n",
    "            \n",
    "            if step % 100 == 0:\n",
    "                print(\"epochs =\", i, \", step =\", step, \", loss_val =\", loss_val)\n",
    "    \n",
    "    test_x_data, test_t_data = mnist_test_images, mnist_test_labels\n",
    "\n",
    "    accuracy_val = sess.run(accuracy, feed_dict={X: test_x_data, T: test_t_data})\n",
    "    print(\"\\nAccuracy =\", accuracy_val)"
   ]
  }
 ],
 "metadata": {
  "kernelspec": {
   "display_name": "tfgpu",
   "language": "python",
   "name": "python3"
  },
  "language_info": {
   "codemirror_mode": {
    "name": "ipython",
    "version": 3
   },
   "file_extension": ".py",
   "mimetype": "text/x-python",
   "name": "python",
   "nbconvert_exporter": "python",
   "pygments_lexer": "ipython3",
   "version": "3.9.13"
  }
 },
 "nbformat": 4,
 "nbformat_minor": 2
}
