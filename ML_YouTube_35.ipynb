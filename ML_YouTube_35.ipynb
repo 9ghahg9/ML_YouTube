{
 "cells": [
  {
   "cell_type": "markdown",
   "metadata": {},
   "source": [
    "# RNN(I)"
   ]
  },
  {
   "cell_type": "markdown",
   "metadata": {},
   "source": [
    "## <span style=\"font-size:25px\">Architecture comparison (NN vs. RNN)</span>"
   ]
  },
  {
   "cell_type": "markdown",
   "metadata": {},
   "source": [
    "<img src=\"picture/ML_img_35_1.png\" alt=\"ML__img_35_1\" width=1100 height=650>"
   ]
  },
  {
   "cell_type": "markdown",
   "metadata": {},
   "source": [
    "<span style=\"font-size:20px\">RNN - Recurrent Neural Network (순환 신경망)</span>\n",
    "\n",
    "<img src=\"picture/ML_img_35_2.png\" alt=\"ML__img_35_2\" width=750 height=150>\n",
    "\n",
    "<span style=\"font-size:18px\">① Utilizing an internally recurrent structure,</span>\n",
    "\n",
    "<span style=\"font-size:18px\">② \n",
    "<span style=\"color:#FE2E64\">A neural network that excels(강점을 가지다) at processing sequence data.</span>\n",
    "</span>"
   ]
  },
  {
   "cell_type": "markdown",
   "metadata": {},
   "source": [
    "$\n",
    "\\begin{array}{c}\n",
    "\\boxed{\n",
    "    \\text{I } \\textcolor{#5882FA}{\\text{work }} \\text{at }\n",
    "    \\textcolor{#58FA58}{\\text{google}} \\enspace ⇨ \\enspace \\text{나는 구글에 근무한다} \\qquad\n",
    "}\n",
    "\\\\\n",
    "\\boxed{\n",
    "    \\text{I } \\textcolor{#5882FA}{\\text{google }} \\text{at }\n",
    "    \\textcolor{#58FA58}{\\text{work}} \\enspace ⇨ \\enspace \\text{나는 회사에서 구글링한다}\n",
    "}\n",
    "\\end{array}\n",
    "$\n",
    "\n",
    "<span style=\"font-size:20px\">\n",
    "<span style=\"color:#FE2E64\">\n",
    "▶ Sequential data\n",
    "</span></span>\n",
    "\n",
    "- <span style=\"font-size:18px\"><span style=\"color:#FE2E64\">It is sequential data such as \n",
    "sentences or voice. This type of data indicates that its meaning changes depending on \n",
    "its position in the sequence.\n",
    "</span></span>\n",
    "\n",
    "- <span style=\"font-size:18px\"><span style=\"color:#FE2E64\">In other words, \n",
    "to understanding the meaning of the current data, you need to know the previous data.\n",
    "</span><br>\n",
    "(I work / I google [대명사 + <span style=\"color:#82FA58\">동사</span>], \n",
    "at google / at work [전치사 + <span style=\"color:#82FA58\">명사</span>])\n",
    "</span>\n",
    "\n",
    "- <span style=\"font-size:18px\">Therefore, RNN \n",
    "<span style=\"color:#FE2E64\">① utilizes a recurrent structure within the hidden layer \n",
    "to retain past data, \n",
    "</span>and then \n",
    "<span style=\"color:#FE2E64\">② connects newly input data with the past data stored in the hidden layer \n",
    "to derive its meaning.\n",
    "</span>\n",
    "</span>"
   ]
  },
  {
   "cell_type": "markdown",
   "metadata": {},
   "source": [
    "## <span style=\"font-size:25px\">RNN Operating Principle - Qualitative Analysis (I work at google)</span>"
   ]
  },
  {
   "cell_type": "markdown",
   "metadata": {},
   "source": [
    "<img src=\"picture/ML_img_35_3.png\" alt=\"ML__img_35_3\" width=1000 height=650>"
   ]
  },
  {
   "cell_type": "markdown",
   "metadata": {},
   "source": [
    "## <span style=\"font-size:25px\">RNN Operating Principle - Including the concept of time</span>"
   ]
  },
  {
   "cell_type": "markdown",
   "metadata": {},
   "source": [
    "<img src=\"picture/ML_img_35_4.png\" alt=\"ML__img_35_4\" width=1000 height=550>"
   ]
  },
  {
   "cell_type": "markdown",
   "metadata": {},
   "source": [
    "<span style=\"font-size:20px\">\n",
    "<span style=\"color:#FE2E64\">\n",
    "▶ RNN structure including the concept of time\n",
    "</span></span>\n",
    "\n",
    "- <span style=\"font-size:18px\">It can be reinterpreted as a structure that connects the past data \n",
    "retained in the hidden layer \n",
    "<br>\n",
    "through the recurrent structure \n",
    "(<span style=\"color:#FE2E64\">red arrows</span>) \n",
    "with the data input after a certain period of time.\n",
    "</span>\n",
    "\n",
    " - <span style=\"font-size:18px\">In other words, \n",
    " <span style=\"color:#FE2E64\">data with a sequence, such as sentences or voice, \n",
    " <br>\n",
    " implies that the data is sequentially input over time.\n",
    " </span>\n",
    " </span>"
   ]
  }
 ],
 "metadata": {
  "language_info": {
   "name": "python"
  }
 },
 "nbformat": 4,
 "nbformat_minor": 2
}
