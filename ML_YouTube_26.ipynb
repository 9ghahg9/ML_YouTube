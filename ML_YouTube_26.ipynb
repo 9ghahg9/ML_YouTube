{
 "cells": [
  {
   "cell_type": "markdown",
   "metadata": {},
   "source": [
    "# Backpropagation (IV)"
   ]
  },
  {
   "cell_type": "markdown",
   "metadata": {},
   "source": [
    "## <span style=\"font-size:25px\">Backpropagation formula for a general neural network with one or more hidden layers</span>"
   ]
  },
  {
   "cell_type": "markdown",
   "metadata": {},
   "source": [
    "<span style=\"font-size:25px\">Steps to derive the backpropagation formula</span>\n",
    "1. Using the 'output value' and the 'Target(correct answer)', the loss calculation.\n",
    "\n",
    "$\n",
    "\\footnotesize \\text{츨력층의 손실} = (\\text{출력층 출력} - \\text{정답})\n",
    "\\footnotesize \\times\n",
    "\\footnotesize \\text{출력층 출력}(1 - \\text{출력층 출력})\n",
    "$\n",
    "\n",
    "2. In case calculating (hypothetical) losses such as loss_3, loss_3 in the hidden layers, the concepts of the current layer, pervious layer, and next layer are introduced, and the same pattern is repeated for calculations.\n",
    "\n",
    "$\n",
    "\\footnotesize \\text{은닉층의 현재층 손실} = (\\text{다음층 손실} \\bullet \\text{다음층에 적용되는 가중치}\\text{W}^{T})\n",
    "\\footnotesize \\times\n",
    "\\footnotesize \\text{현재층 출력}(1 - \\text{현재층 출력})\n",
    "$\n",
    "\n",
    "3. Using the output values and the losses calculated for each layer, \n",
    "\n",
    "$\n",
    "\\footnotesize \\text{현재층의 바이어스 변화율}: \\: \\partial\\text{E}/\\partial\\text{b} = \\text{현재층 손실}\n",
    "$\n",
    "\n",
    "$\n",
    "\\footnotesize \\text{현재층에 적용되는 가중치 변화율}: \\: \\partial\\text{E}/\\partial\\text{W}\n",
    "= (\\text{이전층 출력})^{T} \\bullet \\text{현재층 손실}\n",
    "$"
   ]
  },
  {
   "cell_type": "markdown",
   "metadata": {},
   "source": [
    "## <span style=\"font-size:25px\">Output layer loss / Weight change rate / Bias change rate"
   ]
  },
  {
   "cell_type": "markdown",
   "metadata": {},
   "source": [
    "### <span style=\"font-size:22px\"> - A neural network with one hidden layer"
   ]
  },
  {
   "cell_type": "markdown",
   "metadata": {},
   "source": [
    "<img src=\"picture/ML_img_26_1.png\" alt=\"ML_img_26_1\" width=\"800\" weight=\"250\">"
   ]
  },
  {
   "cell_type": "markdown",
   "metadata": {},
   "source": [
    "|출력층 손실|<span style=\"font-size:15px\"><span style=\"color:LightCoral;\">출력층의 손실 = (출력층 출력 - 정답) × 출력층 출력(1 - 출력층 출력)</span></span> </br> $\\large\\text{loss\\_3} \\: = \\: ( \\: \\text{A}3 \\: - \\: \\text{Target} \\: ) \\: \\times \\: \\text{A}3 \\, ( \\: 1 \\: - \\: \\text{A}3 \\: )$|\n",
    "|:-----------------:|:----------------------------------------------------------------------:|\n",
    "|가중치 W3</br> 업데이트|<span style=\"font-size:15px\"><span style=\"color:LightCoral;\">현재층에 적용되는 가중치 변화율 ∂E/∂W = (이전층 출력)<sup>T</sup> ● 현재층 손실</span></span> </br> $\\large\\text{W}3 \\: = \\: \\text{W}3 \\: - \\: \\alpha\\frac{\\partial\\text{E}}{\\partial\\text{W}3} \\: = \\: \\text{W}3 \\: - \\: \\alpha  \\: \\times \\: ( \\: \\text{A}2^{T} \\: \\bullet \\: \\text{loss\\_3} \\: )$|\n",
    "|바이어스 b3</br> 업데이트|<span style=\"font-size:15px\"><span style=\"color:LightCoral;\">현재층의 바이어스 변화율 ∂E/∂b = 현재층 손실</span></span> </br> $\\large\\text{b}3 \\: = \\: \\text{b}3 \\: - \\: \\alpha\\frac{\\partial\\text{E}}{\\partial\\text{b}3} \\: = \\: \\text{b}3 \\: - \\: \\alpha \\: \\times \\: \\text{loss\\_3}$|"
   ]
  },
  {
   "cell_type": "markdown",
   "metadata": {},
   "source": [
    "<img src=\"picture/ML_img_26_2.png\" alt=\"ML_img_26_2\" width=\"800\" weight=\"250\">"
   ]
  },
  {
   "cell_type": "markdown",
   "metadata": {},
   "source": [
    "|은닉층 손실|<span style=\"font-size:15px\"><span style=\"color:LightCoral;\">은닉층의 현재층 손실 = (다음층 손실 - 다음층에 적용되는 가중치W<sup>T</sup>) × 현재층 출력(1 - 현재층 출력)</span></span> </br> $\\large\\text{loss\\_2} \\: = \\: ( \\: \\text{loss\\_3} \\: \\bullet \\: \\text{W}3^{T} \\: ) \\: \\times \\: \\text{A}2 \\, ( \\: 1 \\: - \\: \\text{A}2 \\:)$|\n",
    "|:-----------------:|:----------------------------------------------------------------------:|\n",
    "|가중치 W2</br> 업데이트|<span style=\"font-size:15px\"><span style=\"color:LightCoral;\">현재층에 적용되는 가중치 변화율 ∂E/∂W = (이전층 출력)<sup>T</sup> ● 현재층 손실</span></span> </br> $\\large\\text{W}2 \\: = \\: \\text{W}2 \\: - \\: \\alpha\\frac{\\partial\\text{E}}{\\partial\\text{W}2} \\: = \\: \\text{W}2 \\: - \\: \\alpha  \\: \\times \\: ( \\: \\text{A}1^{T} \\: \\bullet \\: \\text{loss\\_2} \\: )$|\n",
    "|바이어스 b2</br> 업데이트|<span style=\"font-size:15px\"><span style=\"color:LightCoral;\">현재층의 바이어스 변화율 ∂E/∂b = 현재층 손실</span></span> </br> $\\large\\text{b}2 \\: = \\: \\text{b}2 \\: - \\: \\alpha\\frac{\\partial\\text{E}}{\\partial\\text{b}2} \\: = \\: \\text{b}2 \\: - \\: \\alpha \\: \\times \\: \\text{loss\\_2}$|"
   ]
  },
  {
   "cell_type": "markdown",
   "metadata": {},
   "source": [
    "### <span style=\"font-size:22px\"> - Neural networks containing one or more hidden layers</span>"
   ]
  },
  {
   "cell_type": "markdown",
   "metadata": {},
   "source": [
    "<img src=\"picture/ML_img_26_3.png\" alt=\"ML_img_26_3\" width=\"800\" weight=\"250\">"
   ]
  },
  {
   "cell_type": "markdown",
   "metadata": {},
   "source": [
    "|출력층 손실|<span style=\"font-size:15px\"><span style=\"color:LightCoral;\">출력층의 손실 = (출력층 출력 - 정답) × 출력층 출력(1 - 출력층 출력)</span></span> </br> $\\large\\text{loss\\_4} \\: = \\: ( \\: \\text{A}4 \\: - \\: \\text{Target} \\: ) \\: \\times \\: \\text{A}4 \\, ( \\: 1 \\: - \\: \\text{A}4 \\: )$|\n",
    "|:-----------------:|:----------------------------------------------------------------------:|\n",
    "|가중치 W3</br> 업데이트|<span style=\"font-size:15px\"><span style=\"color:LightCoral;\">현재층에 적용되는 가중치 변화율 ∂E/∂W = (이전층 출력)<sup>T</sup> ● 현재층 손실</span></span> </br> $\\large\\text{W}4 \\: = \\: \\text{W}4 \\: - \\: \\alpha\\frac{\\partial\\text{E}}{\\partial\\text{W}4} \\: = \\: \\text{W}4 \\: - \\: \\alpha \\: \\times \\: ( \\: \\text{A}3^{T} \\: \\bullet \\: \\text{loss\\_4} \\: )$|\n",
    "|바이어스 b3</br> 업데이트|<span style=\"font-size:15px\"><span style=\"color:LightCoral;\">현재층의 바이어스 변화율 ∂E/∂b = 현재층 손실</span></span> </br> $\\large\\text{b}4 \\: = \\: \\text{b}4 \\: - \\: \\alpha\\frac{\\partial\\text{E}}{\\partial\\text{b}4} \\: = \\: \\text{b}4 \\: - \\: \\alpha \\: \\times \\: \\text{loss\\_4}$|"
   ]
  },
  {
   "cell_type": "markdown",
   "metadata": {},
   "source": [
    "<img src=\"picture/ML_img_26_4.png\" alt=\"ML_img_26_4\" width=\"800\" weight=\"250\">"
   ]
  },
  {
   "cell_type": "markdown",
   "metadata": {},
   "source": [
    "|은닉층2 </br> 손실|<span style=\"font-size:15px\"><span style=\"color:LightCoral;\">은닉층의 현재층 손실 = (다음층 손실 - 다음층에 적용되는 가중치W<sup>T</sup>) × 현재층 출력(1 - 현재층 출력)</span></span> </br> $\\large\\text{loss\\_3} \\: = \\: (\\text{loss\\_4} \\: \\bullet \\: \\text{W}4^{T}) \\: \\times \\: \\text{A}3 \\, ( \\: 1 \\: - \\: \\text{A}3 \\: )$|\n",
    "|:-----------------:|:----------------------------------------------------------------------:|\n",
    "|가중치 W3</br> 업데이트|<span style=\"font-size:15px\"><span style=\"color:LightCoral;\">현재층에 적용되는 가중치 변화율 ∂E/∂W = (이전층 출력)<sup>T</sup> ● 현재층 손실</span></span> </br> $\\large\\text{W}3 \\: = \\: \\text{W}3 \\: - \\: \\alpha\\frac{\\partial\\text{E}}{\\partial\\text{W}3} \\: = \\: \\text{W}3 \\: - \\: \\alpha \\: \\times \\: ( \\: \\text{A}2^{T} \\: \\bullet \\: \\text{loss\\_3} \\: )$|\n",
    "|바이어스 b3</br> 업데이트|<span style=\"font-size:15px\"><span style=\"color:LightCoral;\">현재층의 바이어스 변화율 ∂E/∂b = 현재층 손실</span></span> </br> $\\large\\text{b}3 \\: = \\: \\text{b}3 \\: - \\: \\alpha\\frac{\\partial\\text{E}}{\\partial\\text{b}3} \\: = \\: \\text{b}3 \\: - \\: \\alpha \\: \\times \\: \\text{loss\\_3}$|"
   ]
  },
  {
   "cell_type": "markdown",
   "metadata": {},
   "source": [
    "<img src=\"picture/ML_img_26_5.png\" alt=\"ML_img_26_5\" width=\"800\" weight=\"250\">"
   ]
  },
  {
   "cell_type": "markdown",
   "metadata": {},
   "source": [
    "|은닉층1 </br> 손실|<span style=\"font-size:15px\"><span style=\"color:LightCoral;\">은닉층의 현재층 손실 = (다음층 손실 - 다음층에 적용되는 가중치W<sup>T</sup>) × 현재층 출력(1 - 현재층 출력)</span></span> </br> $\\large\\text{loss\\_2} \\: = \\: ( \\: \\text{loss\\_3} \\: \\bullet \\: \\text{W}3^{T} \\: ) \\: \\times \\: \\text{A}2 \\, ( \\: 1 \\: - \\: \\text{A}2 \\: )$|\n",
    "|:-----------------:|:----------------------------------------------------------------------:|\n",
    "|가중치 W2</br> 업데이트|<span style=\"font-size:15px\"><span style=\"color:LightCoral;\">현재층에 적용되는 가중치 변화율 ∂E/∂W = (이전층 출력)<sup>T</sup> ● 현재층 손실</span></span> </br> $\\large\\text{W}2 \\: = \\: \\text{W}2 \\: - \\: \\alpha\\frac{\\partial\\text{E}}{\\partial\\text{W}2} \\: = \\: \\text{W}2 \\: - \\: \\alpha \\: \\times \\: ( \\: \\text{A}1^{T} \\: \\bullet \\: \\text{loss\\_2} \\: )$|\n",
    "|바이어스 b2</br> 업데이트|<span style=\"font-size:15px\"><span style=\"color:LightCoral;\">현재층의 바이어스 변화율 ∂E/∂b = 현재층 손실</span></span> </br> $\\large\\text{b}2 \\: = \\: \\text{b}2 \\: - \\: \\alpha\\frac{\\partial\\text{E}}{\\partial\\text{b}2} \\: = \\: \\text{b}2 \\: - \\: \\alpha \\: \\times \\: \\text{loss\\_2}$|"
   ]
  },
  {
   "cell_type": "markdown",
   "metadata": {},
   "source": [
    "### <span style=\"font-size:22px\"> - General formula for backpropagation</span>"
   ]
  },
  {
   "cell_type": "markdown",
   "metadata": {},
   "source": [
    "<img src=\"picture/ML_img_26_6.png\" alt=\"ML_img_26_6\" width=\"800\" weight=\"250\">"
   ]
  },
  {
   "cell_type": "markdown",
   "metadata": {},
   "source": [
    "|가중치 </br>업데이트|$\\text{W}4 \\: = \\: \\text{W}4 \\: - \\: \\alpha\\frac{\\partial\\text{E}}{\\partial\\text{W}4} \\: = \\: \\text{W}4 \\: - \\: \\alpha \\: \\times \\: ( \\: \\text{A}3^{T} \\: \\bullet \\: \\text{loss\\_4} \\: )$ </br></br> $\\text{W}3 \\: = \\: \\text{W}3 \\: - \\: \\alpha\\frac{\\partial\\text{E}}{\\partial\\text{W}3} \\: = \\: \\text{W}3 \\: - \\: \\alpha \\: \\times \\: ( \\: \\text{A}2^{T} \\: \\bullet \\: \\text{loss\\_3} \\: )$ </br></br> $\\text{W}2 \\: = \\: \\text{W}2 \\: - \\: \\alpha\\frac{\\partial\\text{E}}{\\partial\\text{W}2} \\: = \\: \\text{W}2 \\: - \\: \\alpha \\: \\times \\: ( \\: \\text{A}1^{T} \\: \\bullet \\: \\text{loss\\_2} \\: )$|\n",
    "|:------------------:|:--------------------------:|\n",
    "|바이어스 </br>업데이트|$\\text{b}4 \\: = \\: \\text{b}4 \\: - \\: \\alpha\\frac{\\partial\\text{E}}{\\partial\\text{b}4} \\: = \\: \\text{b}4 \\: - \\: \\alpha \\: \\times \\: \\text{loss\\_4}$ </br></br> $\\text{b}3 \\: = \\: \\text{b}3 \\: - \\: \\alpha\\frac{\\partial\\text{E}}{\\partial\\text{b}3} \\: = \\: \\text{b}3 \\: - \\: \\alpha \\: \\times \\: \\text{loss\\_3}$ </br></br> $\\text{b}2 \\: = \\: \\text{b}2 \\: - \\: \\alpha\\frac{\\partial\\text{E}}{\\partial\\text{b}2} \\: = \\: \\text{b}2 \\: - \\: \\alpha \\: \\times \\: \\text{loss\\_2}$|"
   ]
  }
 ],
 "metadata": {
  "language_info": {
   "name": "python"
  }
 },
 "nbformat": 4,
 "nbformat_minor": 2
}
