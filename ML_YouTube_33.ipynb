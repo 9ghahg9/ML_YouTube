{
 "cells": [
  {
   "cell_type": "markdown",
   "metadata": {},
   "source": [
    "# CNN (II)"
   ]
  },
  {
   "cell_type": "markdown",
   "metadata": {},
   "source": [
    "## <span style=\"font-size:25px\">Role of the convolutional layer</span>"
   ]
  },
  {
   "cell_type": "markdown",
   "metadata": {},
   "source": [
    "<span style=\"font-size:20px\">In the convolutional layer,</span>\n",
    "\n",
    "- <span style=\"font-size:18px\">① Through convolution operations between the input data and one more filters,</span>\n",
    "- <span style=\"font-size:18px\">② features of the input data are extracted to create feature maps,</span>\n",
    "- <span style=\"font-size:18px\">③ and the maximum value from the feature map are selected and passed to the next layer.</span>"
   ]
  },
  {
   "cell_type": "markdown",
   "metadata": {},
   "source": [
    "## <span style=\"font-size:25px\">Feature extraction process - 1 input data (number 2) / 3 filters (horizontal, diagonal, vertical)</span>"
   ]
  },
  {
   "cell_type": "markdown",
   "metadata": {},
   "source": [
    "<img src=\"picture/ML_img_33_1.png\" alt=\"ML_img_33_1\" width=800 height=600>"
   ]
  },
  {
   "cell_type": "markdown",
   "metadata": {},
   "source": [
    "### <span style=\"font-size:20px\">1. Extracting feature from input data using horizontal filters (1 Stride, none-padding, -1 bias)</span>"
   ]
  },
  {
   "cell_type": "markdown",
   "metadata": {},
   "source": [
    "<img src=\"picture/ML_img_33_2.png\" alt=\"ML_img_33_2\" width=1000 height=750>"
   ]
  },
  {
   "cell_type": "markdown",
   "metadata": {},
   "source": [
    "### <span style=\"font-size:20px\">2. Extracting feature from input data using diagonal filters (1 Stride, none-padding, -1 bias)</span>"
   ]
  },
  {
   "cell_type": "markdown",
   "metadata": {},
   "source": [
    "<img src=\"picture/ML_img_33_3.png\" alt=\"ML_img_33_3\" width=1000 height=750>"
   ]
  },
  {
   "cell_type": "markdown",
   "metadata": {},
   "source": [
    "### <span style=\"font-size:20px\">3. Extracting feature from input data using vertical filters (1 Stride, none-padding, -1 bias)</span>"
   ]
  },
  {
   "cell_type": "markdown",
   "metadata": {},
   "source": [
    "<img src=\"picture/ML_img_33_4.png\" alt=\"ML_img_33_4\" width=1000 height=750>"
   ]
  },
  {
   "cell_type": "markdown",
   "metadata": {},
   "source": [
    "## <span style=\"font-size:25px\">Principle of input data feature extraction through filters </span><span style=\"font-size:20px\"><span style=\"color:#FE2E64\">- pooled values from the compressed feature map\n",
    "</span>\n",
    "</span>"
   ]
  },
  {
   "cell_type": "markdown",
   "metadata": {},
   "source": [
    "<img src=\"picture/ML_img_33_5.png\" alt=\"ML_img_33_5\" width=1000 height=500>"
   ]
  },
  {
   "cell_type": "markdown",
   "metadata": {},
   "source": [
    "<span style=\"font-size:20px\">\n",
    "<span style=\"color:#FE2E64\">\n",
    "▶ When observing the pooling values that compress the feature map values resulting from the convolution operation,\"\n",
    "</span>\n",
    "</span>\n",
    "\n",
    "- <span style=\"font-size:18px\">the pooling value for the diagonal filter is composed of larger values compared to those of the horizontal and vertical filters.\n",
    "</span>\n",
    "\n",
    "- <span style=\"font-size:18px\"><span style=\"color:#FE2E64\">A larger pooling value indicates that the corresponding filter's features (components) <br>\n",
    "are more prominently included in the data. In other words, the pooling results, which compress the feature map values, allow us to extract the features (components) of the data.\n",
    "</span>\n",
    "</span>\n",
    "\n",
    "\n",
    "- <span style=\"font-size:18px\"><span style=\"color:#A9BCF5\">From the example above, it can be observed that the input data '2' contains more diagonal <br>\n",
    "features than horizonal or vertical features, that the diagonal filter is more effective in extracting these features compared to the horizontal or vertical filters.\n",
    "</span>\n",
    "</span>"
   ]
  }
 ],
 "metadata": {
  "language_info": {
   "name": "python"
  }
 },
 "nbformat": 4,
 "nbformat_minor": 2
}
