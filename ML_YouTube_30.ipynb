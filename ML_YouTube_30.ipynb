{
 "cells": [
  {
   "cell_type": "markdown",
   "metadata": {},
   "source": [
    "# TensorFlow(III)"
   ]
  },
  {
   "cell_type": "markdown",
   "metadata": {},
   "source": [
    "## <span style=\"font-size:25px\">Logistic Regression operation implementation &nbsp;&nbsp;<span style=\"font-size:15px\"><span style=\"color:#FE2E64\">ML_YouTube_16 reference</span></span></span>"
   ]
  },
  {
   "cell_type": "code",
   "execution_count": 1,
   "metadata": {},
   "outputs": [],
   "source": [
    "import numpy as np\n",
    "import tensorflow as tf"
   ]
  },
  {
   "cell_type": "code",
   "execution_count": 6,
   "metadata": {},
   "outputs": [],
   "source": [
    "# tensorflow 2.x -> 1.x\n",
    "tf.compat.v1.disable_eager_execution()\n",
    "tfv1 = tf.compat.v1"
   ]
  },
  {
   "cell_type": "code",
   "execution_count": 4,
   "metadata": {},
   "outputs": [
    {
     "name": "stdout",
     "output_type": "stream",
     "text": [
      "loaded_data = (759, 9)\n",
      "x_data = (759, 8) t_data (759, 1)\n"
     ]
    }
   ],
   "source": [
    "loaded_data = np.loadtxt('./data_file/diabetes.csv', delimiter=',')\n",
    "\n",
    "x_data = loaded_data[:, 0:-1]\n",
    "t_data = loaded_data[:, [-1]]\n",
    "\n",
    "print(\"loaded_data =\", loaded_data.shape)\n",
    "print(\"x_data =\", x_data.shape, \"t_data\", t_data.shape)"
   ]
  },
  {
   "cell_type": "code",
   "execution_count": 7,
   "metadata": {},
   "outputs": [],
   "source": [
    "X = tfv1.placeholder(tfv1.float32, [None, 8])\n",
    "T = tfv1.placeholder(tfv1.float32, [None, 1])\n",
    "\n",
    "W = tfv1.Variable(tfv1.random_normal([8, 1]))\n",
    "b = tfv1.Variable(tfv1.random_normal([1]))"
   ]
  },
  {
   "cell_type": "code",
   "execution_count": 8,
   "metadata": {},
   "outputs": [],
   "source": [
    "z = tfv1.matmul(X, W) + b\n",
    "\n",
    "y = tfv1.sigmoid(z)\n",
    "\n",
    "loss = -tfv1.reduce_mean(T * tfv1.log(y) + (1 - T) * tfv1.log(1 - y))"
   ]
  },
  {
   "cell_type": "code",
   "execution_count": 17,
   "metadata": {},
   "outputs": [],
   "source": [
    "learning_rate = 1e-2\n",
    "\n",
    "optimizer = tfv1.train.GradientDescentOptimizer(learning_rate)\n",
    "\n",
    "train = optimizer.minimize(loss)"
   ]
  },
  {
   "cell_type": "code",
   "execution_count": 12,
   "metadata": {},
   "outputs": [],
   "source": [
    "predicted = tfv1.cast(y > 0.5, dtype=tfv1.float32)  # cast(~): If '~' = True, the ouput is 1; otherwise, it is 0.\n",
    "\n",
    "accuracy = tfv1.reduce_mean(tfv1.cast(tfv1.equal(predicted, T), dtype=tfv1.float32))"
   ]
  },
  {
   "cell_type": "code",
   "execution_count": 18,
   "metadata": {},
   "outputs": [
    {
     "name": "stdout",
     "output_type": "stream",
     "text": [
      "step = 0 , loss_val = 0.9968674\n",
      "step = 400 , loss_val = 0.7010296\n",
      "step = 800 , loss_val = 0.64043385\n",
      "step = 1200 , loss_val = 0.61453557\n",
      "step = 1600 , loss_val = 0.59422004\n",
      "step = 2000 , loss_val = 0.57711726\n",
      "step = 2400 , loss_val = 0.56269413\n",
      "step = 2800 , loss_val = 0.5505409\n",
      "step = 3200 , loss_val = 0.54029316\n",
      "step = 3600 , loss_val = 0.53163356\n",
      "step = 4000 , loss_val = 0.5242936\n",
      "step = 4400 , loss_val = 0.5180492\n",
      "step = 4800 , loss_val = 0.51271534\n",
      "step = 5200 , loss_val = 0.5081402\n",
      "step = 5600 , loss_val = 0.50419927\n",
      "step = 6000 , loss_val = 0.5007904\n",
      "step = 6400 , loss_val = 0.4978296\n",
      "step = 6800 , loss_val = 0.4952477\n",
      "step = 7200 , loss_val = 0.49298766\n",
      "step = 7600 , loss_val = 0.49100205\n",
      "step = 8000 , loss_val = 0.48925146\n",
      "step = 8400 , loss_val = 0.4877029\n",
      "step = 8800 , loss_val = 0.4863286\n",
      "step = 9200 , loss_val = 0.48510534\n",
      "step = 9600 , loss_val = 0.48401326\n",
      "step = 10000 , loss_val = 0.48303568\n",
      "step = 10400 , loss_val = 0.48215818\n",
      "step = 10800 , loss_val = 0.4813686\n",
      "step = 11200 , loss_val = 0.48065647\n",
      "step = 11600 , loss_val = 0.48001257\n",
      "step = 12000 , loss_val = 0.47942916\n",
      "step = 12400 , loss_val = 0.47889936\n",
      "step = 12800 , loss_val = 0.47841728\n",
      "step = 13200 , loss_val = 0.47797784\n",
      "step = 13600 , loss_val = 0.47757635\n",
      "step = 14000 , loss_val = 0.47720888\n",
      "step = 14400 , loss_val = 0.47687197\n",
      "step = 14800 , loss_val = 0.47656253\n",
      "step = 15200 , loss_val = 0.47627786\n",
      "step = 15600 , loss_val = 0.47601548\n",
      "step = 16000 , loss_val = 0.4757733\n",
      "step = 16400 , loss_val = 0.47554934\n",
      "step = 16800 , loss_val = 0.475342\n",
      "step = 17200 , loss_val = 0.4751497\n",
      "step = 17600 , loss_val = 0.4749711\n",
      "step = 18000 , loss_val = 0.47480494\n",
      "step = 18400 , loss_val = 0.47465023\n",
      "step = 18800 , loss_val = 0.47450593\n",
      "step = 19200 , loss_val = 0.47437114\n",
      "step = 19600 , loss_val = 0.474245\n",
      "step = 20000 , loss_val = 0.47412696\n",
      "\n",
      " y_val.shape = (759, 1) , predicted_val = (759, 1)\n",
      "\n",
      " Accuracy = 77.07509994506836\n"
     ]
    }
   ],
   "source": [
    "with tfv1.Session() as sess:\n",
    "    \n",
    "    sess.run(tfv1.global_variables_initializer())\n",
    "\n",
    "    for step in range(20001):\n",
    "        \n",
    "        loss_val, _ = sess.run([loss, train], feed_dict={X: x_data, T: t_data})\n",
    "\n",
    "        if step % 400 == 0:\n",
    "            print(\"step =\", step, \", loss_val =\", loss_val)\n",
    "        \n",
    "    # Check Accuracy\n",
    "    y_val, predicted_val, accuracy_val = sess.run([y, predicted, accuracy], feed_dict={X: x_data, T: t_data})\n",
    "\n",
    "    print(\"\\n y_val.shape =\", y_val.shape, \", predicted_val =\", predicted_val.shape)\n",
    "    print(\"\\n Accuracy =\", accuracy_val * 100)"
   ]
  }
 ],
 "metadata": {
  "kernelspec": {
   "display_name": "tfgpu",
   "language": "python",
   "name": "python3"
  },
  "language_info": {
   "codemirror_mode": {
    "name": "ipython",
    "version": 3
   },
   "file_extension": ".py",
   "mimetype": "text/x-python",
   "name": "python",
   "nbconvert_exporter": "python",
   "pygments_lexer": "ipython3",
   "version": "3.9.13"
  }
 },
 "nbformat": 4,
 "nbformat_minor": 2
}
