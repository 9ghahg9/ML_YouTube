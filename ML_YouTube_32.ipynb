{
 "cells": [
  {
   "cell_type": "markdown",
   "metadata": {},
   "source": [
    "# CNN(I)"
   ]
  },
  {
   "cell_type": "markdown",
   "metadata": {},
   "source": [
    "## <span style=\"font-size:25px\">Architecture comparison (NN vs. CNN)</span>"
   ]
  },
  {
   "cell_type": "markdown",
   "metadata": {},
   "source": [
    "<img src=\"picture/ML_img_32_1.png\" alt=\"ML__img_32_1\" width=1100 height=650>"
   ]
  },
  {
   "cell_type": "markdown",
   "metadata": {},
   "source": [
    "<span style=\"font-size:20px\">\n",
    "<span style=\"color:#FE2E64\">\n",
    "▶ Conv (컨블루션, convolution)\n",
    "</span>\n",
    "</span>\n",
    "<br>\n",
    "\n",
    "- <span style=\"font-size:18px\">It performs the role of \n",
    "<span style=\"color:#FE2E64\">\n",
    "extracting feature from input data(A1, A2⋯)\n",
    "</span>\n",
    "through\n",
    "<span style=\"color:#FE2E64\">\n",
    "convolution operations\n",
    "</span>\n",
    "<span style=\"text-underline-position:under;text-decoration:underline solid;\">\n",
    "with various filters, which are collections of weights.\n",
    "</span>\n",
    "</span>\n",
    "\n",
    "$\n",
    "\\qquad\\qquad\n",
    "\\boxed{\n",
    "    \\begin{array}{c}\n",
    "    A1 \\enspace ⊛ \\enspace \\text{filter\\_1} \\enspace + \\enspace \n",
    "    \\text{b2} \\enspace ⇨ \\enspace \\text{Feature extraction from input\\_data A1}\n",
    "    \\\\\n",
    "    \\\\\n",
    "    A2 \\enspace ⊛ \\enspace \\text{filter\\_2} \\enspace + \\enspace \n",
    "    \\text{b3} \\enspace ⇨ \\enspace \\text{Feature extraction from input\\_data A2}\n",
    "    \\end{array}\n",
    "}\n",
    "$\n",
    "\n",
    "<br>\n",
    "\n",
    "<span style=\"font-size:20px\">\n",
    "<span style=\"color:#FE2E64\">\n",
    "▶ Pooling (풀링)\n",
    "</span>\n",
    "</span>\n",
    "\n",
    "- <span style=\"font-size:18px\"><span style=\"color:#FE2E64\">It compresses input information using maximum, minimum, average values, etc., \n",
    "reducing the amount of data  computation.\n",
    "</span>\n",
    "</span>\n",
    "\n",
    "<img src=\"picture/ML_img_32_2.png\" alt=\"ML_img_32_2\" width=450 height=150>"
   ]
  },
  {
   "cell_type": "markdown",
   "metadata": {},
   "source": [
    "## <span style=\"font-size:25px\">Convolution operation ⊛ - extraction feature (feature map)</span>"
   ]
  },
  {
   "cell_type": "markdown",
   "metadata": {},
   "source": [
    "<img src=\"picture/ML_img_32_3.png\" alt=\"ML_img_32_3\" width=1000 height=600>"
   ]
  },
  {
   "cell_type": "markdown",
   "metadata": {},
   "source": [
    "## <span style=\"font-size:25px\">Relu / Pooling operation</span>"
   ]
  },
  {
   "cell_type": "markdown",
   "metadata": {},
   "source": [
    "<img src=\"picture/ML_img_32_4.png\" alt=\"ML_img_32_4\" width=1000 height=450>"
   ]
  },
  {
   "cell_type": "markdown",
   "metadata": {},
   "source": [
    "## <span style=\"font-size:25px\">Padding (패딩)</span>"
   ]
  },
  {
   "cell_type": "markdown",
   "metadata": {},
   "source": [
    "<span style=\"font-size:20px\">\n",
    "<span style=\"color:#FE2E64\">\n",
    "▶ Padding \n",
    "</span>\n",
    "refers to \n",
    "<span style=\"color:#FE2E64\">\n",
    "filling the area around the input data with specific values (e.g., 0) \n",
    "</span>\n",
    "before performing convolution operations. It is a commonly used technique in convolution operations.\n",
    "</span>\n",
    "\n",
    "- <span style=\"font-size:18\"> It is used to prevent the reduction of data size (shape) when performing convolution operations.\n",
    "</span>\n",
    "\n",
    "<img src=\"picture/ML_img_32_5.png\" alt=\"ML_img_32_5\" width=800 height=480>"
   ]
  },
  {
   "cell_type": "markdown",
   "metadata": {},
   "source": [
    "## <span style=\"font-size:25px\">Calculation of output data size (shape) through convolution operations</span>"
   ]
  },
  {
   "cell_type": "markdown",
   "metadata": {},
   "source": [
    "<span style=\"font-size:20px\">\n",
    "When input_data.shape = (H, W), filter.shape = (FH, FW), Padding = P, Stride = S,\n",
    "<br>\n",
    "<span style=\"color:#FE2E64\">\n",
    "output_data.shape = (OH, OW)\n",
    "</span>\n",
    "</span>\n",
    "\n",
    "$\n",
    "\\boxed{\n",
    "    \\text{OH} \\; = \\; \\frac {\\text{H} \\; + \\; \\text{2P} \\; - \\; \\text{FH}} {S} \\; + \\; 1\n",
    "}\n",
    "\\qquad\n",
    "\\boxed{\n",
    "    \\text{OW} \\; = \\; \\frac {\\text{W} \\; + \\; \\text{2P} \\; - \\; \\text{FW}} {S} \\; + \\; 1\n",
    "}\n",
    "$"
   ]
  },
  {
   "cell_type": "markdown",
   "metadata": {},
   "source": [
    "$\n",
    "\\begin{array}{c}\n",
    "\\boxed{\n",
    "    \\begin{array}{c}\n",
    "    [\\text{e.g. 1}] \\; \\text{input} \\; (4,\\,4), \\; \\text{filter} \\; (3,\\,3), \\; \n",
    "    \\text{padding} \\; 1, \\; \\text{Stride} \\; 1 \\; => \\; \\text{output} \\; (4,\\,4) \\qquad\n",
    "    \\\\\n",
    "    \\\\\n",
    "    \\text{OH} \\; = \\; \\frac {4 \\; + \\; 2*1 \\; - \\; 3} {1} \\; + \\; 1 \\; = \\; 4\n",
    "    \\qquad\n",
    "    \\text{OW} \\; = \\; \\frac {4 \\; + \\; 2*1 \\; - \\; 3} {1} \\; + \\; 1 \\; = \\; 4\n",
    "    \\end{array}\n",
    "}\n",
    "\\\\\n",
    "\\\\\n",
    "\\boxed{\n",
    "    \\begin{array}{c}\n",
    "    [\\text{e.g. 2}] \\; \\text{input} \\; (7,\\,7), \\; \\text{filter} \\; (3,\\,3), \\; \n",
    "    \\text{padding} \\; 0, \\; \\text{Stride} \\; 2 \\; => \\; \\text{output} \\; (3,\\,3) \\qquad\n",
    "    \\\\\n",
    "    \\\\\n",
    "    \\text{OH} \\; = \\; \\frac {7 \\; + \\; 2*0 \\; - \\; 3} {2} \\; + \\; 1 \\; = \\; 3\n",
    "    \\qquad\n",
    "    \\text{OW} \\; = \\; \\frac {7 \\; + \\; 2*0 \\; - \\; 3} {2} \\; + \\; 1 \\; = \\; 3\n",
    "    \\end{array}\n",
    "}\n",
    "\\\\\n",
    "\\\\\n",
    "\\boxed{\n",
    "    \\begin{array}{c}\n",
    "    [\\text{e.g. 3}] \\; \\text{input} \\; (28,\\,31), \\; \\text{filter} \\; (5,\\,5), \\; \n",
    "    \\text{padding} \\; 2, \\; \\text{Stride} \\; 3 \\; => \\; \\text{output} \\; (10,\\,11)\n",
    "    \\\\\n",
    "    \\\\\n",
    "    \\text{OH} \\; = \\; \\frac {28 \\; + \\; 2*2 \\; - \\; 5} {3} \\; + \\; 1 \\; = \\; 10\n",
    "    \\qquad\n",
    "    \\text{OW} \\; = \\; \\frac {31 \\; + \\; 2*2 \\; - \\; 5} {3} \\; + \\; 1 \\; = \\; 11\n",
    "    \\end{array}\n",
    "}\n",
    "\\end{array}\n",
    "$"
   ]
  }
 ],
 "metadata": {
  "language_info": {
   "name": "python"
  }
 },
 "nbformat": 4,
 "nbformat_minor": 2
}
