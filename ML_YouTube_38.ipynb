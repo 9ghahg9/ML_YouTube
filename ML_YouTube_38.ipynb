{
 "cells": [
  {
   "cell_type": "markdown",
   "metadata": {},
   "source": [
    "# Transfer Learning (I)"
   ]
  },
  {
   "cell_type": "markdown",
   "metadata": {},
   "source": [
    "## <span style=\"font-size:25px\">1. To recognize MNIST, CNN architecture and time taken</span>"
   ]
  },
  {
   "cell_type": "markdown",
   "metadata": {},
   "source": [
    "- <span style=\"font-size:20px\">It need to at least 3 convolution layers and 1 fully connected layer.</span>"
   ]
  },
  {
   "cell_type": "markdown",
   "metadata": {},
   "source": [
    "## <span style=\"font-size:25px\">2. To recognize the high resolution color image, CNN architecture and time taken</span>"
   ]
  },
  {
   "cell_type": "markdown",
   "metadata": {},
   "source": [
    "- <span style=\"font-size:20px\">It need to at least 5 or more convolution layers and 2 fully connected layer. And it must go through a training process to extract features from complex images.</span>\n",
    "\n",
    "- <span style=\"font-size:20px\">The training time can take hundreds to thousands of hours in sigle CPU environment.</span>"
   ]
  },
  {
   "cell_type": "markdown",
   "metadata": {},
   "source": [
    "## <span style=\"font-size:25px\">3. The necessity of pre-trained models</span>"
   ]
  },
  {
   "cell_type": "markdown",
   "metadata": {},
   "source": [
    "- <span style=\"font-size:20px\">Modify (tune) various parameters of an already pre-trained CNN model for use.</span>\n",
    "\n",
    "- <span style=\"font-size:20px\">By doing so, it significantly reduces the time required compared to training parameters initialized with arbitrary values from scratch, and it allows for the advantage of training on diverse image data in a short period of time.</span>"
   ]
  },
  {
   "cell_type": "markdown",
   "metadata": {},
   "source": [
    "## <span style=\"font-size:25px\">1,2,3==> Transfer Learning (전이학습)</span>"
   ]
  },
  {
   "cell_type": "markdown",
   "metadata": {},
   "source": [
    "<img src=\"picture/ML_img_38_1.png\" alt=\"ML_img_38_1\" width=\"850\" height=\"300\">\n",
    "\n",
    "- <span style=\"font-size:20px\">It is a method of training by using ResNet and GoogLeNet, which demonstrate the best performance in understanding high-resolution color image characteristics, and applying fine-tuning, which refers to making small adjustments to suit the desired data.</span>"
   ]
  }
 ],
 "metadata": {
  "language_info": {
   "name": "python"
  }
 },
 "nbformat": 4,
 "nbformat_minor": 2
}
