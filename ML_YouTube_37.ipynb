{
 "cells": [
  {
   "cell_type": "markdown",
   "metadata": {},
   "source": [
    "# RNN (III)"
   ]
  },
  {
   "cell_type": "markdown",
   "metadata": {},
   "source": [
    "## <span style=\"font-size:25px\">RNN Operation Principal</span>"
   ]
  },
  {
   "cell_type": "markdown",
   "metadata": {},
   "source": [
    "<img src=\"picture/ML_img_37_1.png\" alt=\"ML_img_37_1\" width=873 height=327>\n",
    "\n",
    "|     | <span style=\"font-size:15px\">② LR</span> | <span style=\"font-size:15px\">③ Summation</span> | <span style=\"font-size:15px\">④ Output</span> | <span style=\"font-size:15px; color:#FE2E64\">TensorFlow API</span> |\n",
    "|:---:|:---:|:---:|:---:|:---:|\n",
    "| <span style=\"font-size:15px\">Hidden layer</span> | $\\small{\\text{A1}\\cdot\\text{W}_\\text{ih} = \\text{Z2}}$ | $\\small{\\text{Z2}+\\text{H}_\\text{cur}\\cdot\\text{W}_\\text{hh}+\\text{b}_\\text{n} =\\text{R2}}$ | $\\small{\\text{tanh(R2) = \\textcolor{#FE2E64}{H}}_{\\textcolor{#FE2E64}{\\text{t}}}}$ | tf.contrib.rnn.BasicRNNCell(⋯) <br> tf.nn.dynamic_rnn(⋯) |\n",
    "\n",
    "<br>\n",
    "\n",
    "|     | <span style=\"font-size:15px\">⑤ LR</span> | <span style=\"font-size:15px\">⑥ Output</span> | loss function | <span style=\"font-size:15px; color:#FE2E64\">TensorFlow API</span> |\n",
    "|:---:|:---:|:---:|:---:|:---:|\n",
    "| <span style=\"font-size:15px\">Output layer</span> | $\\small{\\text{A2}\\cdot\\text{W}_\\text{ho} = \\text{Z3}}$ | $\\small{\\text{softmax(Z3 + b}_\\text{o}) = \\text{A3}}$ | Cross Entropy | tf.contrib.seq2seq.sequence_loss(⋯) |"
   ]
  },
  {
   "cell_type": "markdown",
   "metadata": {},
   "source": [
    "<img src=\"picture/ML_img_37_2.png\" alt=\"ML_img_37_2\" width=873 height=200>\n",
    "<br>\n",
    "<img src=\"picture/ML_img_37_3.png\" alt=\"ML_img_37_3\" width=873 height=700>"
   ]
  },
  {
   "cell_type": "markdown",
   "metadata": {},
   "source": [
    "## <span style=\"font-size:25px\">e.g. ('gohome')</span>"
   ]
  },
  {
   "cell_type": "markdown",
   "metadata": {},
   "source": [
    "<img src=\"picture/ML_img_37_4.png\" alt=\"ML_img_37_4\" width=873 height=700>"
   ]
  },
  {
   "cell_type": "markdown",
   "metadata": {},
   "source": [
    "## <span style=\"font-size:25px\">RNN operation (input_data gohom => label_data ohome)</span>"
   ]
  },
  {
   "cell_type": "code",
   "execution_count": null,
   "metadata": {},
   "outputs": [],
   "source": [
    "import tensorflow as tf\n",
    "import tensorflow_addons as tfa\n",
    "import numpy as np\n",
    "\n",
    "tf.compat.v1.disable_eager_execution()\n",
    "tfv1 = tf.compat.v1\n",
    "\n",
    "# 'gohome' Data Creation\n",
    "idx2char = ['g', 'o', 'h', 'm', 'e']    # g = 0, o = 1, h = 2, m = 3, e = 4\n",
    "\n",
    "x_data = [[0, 1, 2, 1, 3]]     # gohome\n",
    "\n",
    "x_one_hot = [[[1, 0, 0, 0],     # g 0\n",
    "              [0, 1, 0, 0],     # o 1\n",
    "              [0, 0, 1, 0],     # h 2\n",
    "              [0, 1, 0, 0],     # o 1\n",
    "              [0, 0, 0, 1]]]    # m 3\n",
    "\n",
    "t_data = [[1, 2, 1, 3, 4]]      # ohome\n",
    "\n",
    "mun_classes = 5      # correct answer size, so it's the size represented as one-hot\n",
    "input_dim = 4        # one-hot size, 0~3 => total 4\n",
    "hidden_size = 5      # output from the RNN, 5 to directly predict one-hot\n",
    "batch_size = 1       # one sentence\n",
    "sequence_length = 5  # input sentence length, gohom = 5\n",
    "learning_rate = 1e-1\n",
    "\n",
    "# placeholder(number point, [batch size, height, width, number of chennal])\n",
    "X = tfv1.placeholder(tfv1.float32, [None, sequence_length, input_dim])\n",
    "T = tfv1.placeholder(tfv1.float32, [None, sequence_length])"
   ]
  },
  {
   "cell_type": "code",
   "execution_count": null,
   "metadata": {},
   "outputs": [],
   "source": [
    "cell = tfv1.nn.rnn_cell.BasicRNNCell(num_units=hidden_size)\n",
    "\n",
    "initial_state = cell.zero_state(batch_size, tf.float32)\n",
    "\n",
    "outputs, _states = tfv1.nn.dynamic_rnn(cell, X, initial_state=initial_state, dtype=tf.float32)"
   ]
  },
  {
   "cell_type": "code",
   "execution_count": 3,
   "metadata": {},
   "outputs": [],
   "source": [
    "weights = tfv1.ones([batch_size, sequence_length])\n",
    "\n",
    "T = tf.cast(T, tf.int32)\n",
    "seq_loss = tfa.seq2seq.sequence_loss(logits=outputs, targets=T, weights=weights)\n",
    "\n",
    "loss = tfv1.reduce_mean(seq_loss)\n",
    "\n",
    "train = tfv1.train.AdamOptimizer(learning_rate=learning_rate).minimize(loss)"
   ]
  },
  {
   "cell_type": "code",
   "execution_count": 4,
   "metadata": {},
   "outputs": [
    {
     "name": "stdout",
     "output_type": "stream",
     "text": [
      "step = 0 , loss_val = [1.4958118, None] , prediction = [[0 2 1 3 4]] , target = [[1, 2, 1, 3, 4]]\n",
      "\tPrediction = ghome\n",
      "step = 400 , loss_val = [0.44907007, None] , prediction = [[1 2 1 3 4]] , target = [[1, 2, 1, 3, 4]]\n",
      "\tPrediction = ohome\n",
      "step = 800 , loss_val = [0.44365376, None] , prediction = [[1 2 1 3 4]] , target = [[1, 2, 1, 3, 4]]\n",
      "\tPrediction = ohome\n",
      "step = 1200 , loss_val = [0.44144154, None] , prediction = [[1 2 1 3 4]] , target = [[1, 2, 1, 3, 4]]\n",
      "\tPrediction = ohome\n",
      "step = 1600 , loss_val = [0.5217691, None] , prediction = [[1 2 4 3 4]] , target = [[1, 2, 1, 3, 4]]\n",
      "\tPrediction = oheme\n",
      "step = 2000 , loss_val = [0.52174264, None] , prediction = [[1 2 4 3 4]] , target = [[1, 2, 1, 3, 4]]\n",
      "\tPrediction = oheme\n"
     ]
    }
   ],
   "source": [
    "y = prediction = tfv1.argmax(outputs, axis=2)\n",
    "\n",
    "with tfv1.Session() as sess:\n",
    "    sess.run(tfv1.global_variables_initializer())\n",
    "    for step in range(2001):\n",
    "        loss_val = sess.run([loss, train], feed_dict={X: x_one_hot, T: t_data})\n",
    "        result = sess.run(y, feed_dict={X: x_one_hot})\n",
    "        \n",
    "        if step % 400 == 0:\n",
    "            print(\"step =\", step, \", loss_val =\", loss_val, \", prediction =\", result, \", target =\", t_data)\n",
    "            result_str = [idx2char[c] for c in np.squeeze(result)]\n",
    "            print(\"\\tPrediction =\", ''.join(result_str))"
   ]
  },
  {
   "cell_type": "code",
   "execution_count": null,
   "metadata": {},
   "outputs": [],
   "source": []
  }
 ],
 "metadata": {
  "kernelspec": {
   "display_name": "tfgpu",
   "language": "python",
   "name": "python3"
  },
  "language_info": {
   "codemirror_mode": {
    "name": "ipython",
    "version": 3
   },
   "file_extension": ".py",
   "mimetype": "text/x-python",
   "name": "python",
   "nbconvert_exporter": "python",
   "pygments_lexer": "ipython3",
   "version": "3.9.13"
  }
 },
 "nbformat": 4,
 "nbformat_minor": 2
}
