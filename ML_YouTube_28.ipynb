{
 "cells": [
  {
   "cell_type": "markdown",
   "metadata": {},
   "source": [
    "# TensorFlow (I)"
   ]
  },
  {
   "cell_type": "markdown",
   "metadata": {},
   "source": [
    "## <p style=\"font-size:25px\">Concept</p>"
   ]
  },
  {
   "cell_type": "markdown",
   "metadata": {},
   "source": [
    "$\\blacktriangleright$ <span style=\"font-size:22px\">TensorFlow, as its name suggests, is a library developed and released by Google that performs machine/deep learning algorithms by passing('Flow') 'tensors' through its framework.</span>\n",
    "\n",
    "- <span style=\"font-size:18px\">A number 1(scalar or tensor of rank 0)</span>\n",
    "- <span style=\"font-size:18px\">1-dim array [1, 2] (vector or tensor of rank 1)</span>\n",
    "- <span style=\"font-size:18px\">2-dim array [ [1, 2], [3, 4]] (metrix or tensor of rank 2)</span>\n",
    "- <span style=\"font-size:18px\">3-dim array [ [[1, 2]], [[3, 4]]] (tensor or tensor of rank 3)</span>\n",
    "\n",
    "</br>\n",
    "\n",
    "$\\blacktriangleright$ <span style=\"font-size:22px\">These tensors 'flow' <span style=\"color:#FE2E64\">from node</span> to node within a graph structure.</span>\n",
    "\n",
    "- <span style=\"font-size:18px\">A graph data structure consists of nodes and edges</span>\n",
    "- <span style=\"font-size:18px\"><span style=\"color:#FE2E64\">When write programs using TensorFlow,</span></span>\n",
    "\n",
    "<div style=\"margin-left:50px\"><span style=\"font-size:18px\">① <span style=\"color:#FE2E64\">Define nodes and edges such</span> as constants, variables, and tensor operations first,</span></div>\n",
    "<div style=\"margin-left:50px\"><span style=\"font-size:18px\">②\n",
    " create a session, and perform tensor operations <span style=\"color:#FE2E64\">between nodes through that session.</span></span></div>"
   ]
  },
  {
   "cell_type": "markdown",
   "metadata": {},
   "source": [
    "## <span style=\"font-size:22px\">TensorFlow constant nodes - tf.constant(⋯)</span>"
   ]
  },
  {
   "cell_type": "code",
   "execution_count": 17,
   "metadata": {},
   "outputs": [
    {
     "name": "stdout",
     "output_type": "stream",
     "text": [
      "Tensor(\"a_12:0\", shape=(), dtype=float32)\n",
      "Tensor(\"add_14:0\", shape=(), dtype=float32)\n",
      "Tensor(\"Const_12:0\", shape=(2, 2), dtype=float32)\n",
      "[1. 2.]\n",
      "[[1. 2.]\n",
      " [3. 4.]]\n",
      "[3.]\n",
      "[[2. 3.]\n",
      " [4. 5.]]\n"
     ]
    }
   ],
   "source": [
    "import numpy as np\n",
    "import tensorflow as tf\n",
    "\n",
    "tf.compat.v1.disable_eager_execution()\n",
    "\n",
    "# Define constant nodes\n",
    "a = tf.constant(1.0, name='a')      # name='\"self\"' is used to specifically represent the name of a constant node.\n",
    "b = tf.constant(2.0, name='b')\n",
    "c = tf.constant([ [1.0, 2.0], [3.0, 4.0] ])\n",
    "\n",
    "print(a)\n",
    "print(a + b)\n",
    "print(c)\n",
    "\n",
    "# tensorflow 1.x\n",
    "\n",
    "sess = tf.compat.v1.Session()\n",
    "resultab = sess.run([a, b])\n",
    "resultc = sess.run(c)\n",
    "resultaplusb = sess.run([a + b])\n",
    "resultcplus1 = sess.run(c + 1.0)\n",
    "print(np.array(resultab))\n",
    "print(np.array(resultc))\n",
    "print(np.array(resultaplusb))\n",
    "print(np.array(resultcplus1))\n",
    "\n",
    "# session close\n",
    "sess.close()"
   ]
  },
  {
   "cell_type": "markdown",
   "metadata": {},
   "source": [
    "## <span style=\"font-size:22px\">TensorFlow paceholder nodes - tf.paceholder(⋯)</span>\n",
    "<span style=\"font-size:15px\">- It is mainly used in machine learning/deep learning to feed input data and correct answer data.</span>"
   ]
  },
  {
   "cell_type": "code",
   "execution_count": 26,
   "metadata": {},
   "outputs": [
    {
     "name": "stdout",
     "output_type": "stream",
     "text": [
      "4.0\n",
      "[4. 6.]\n",
      "400.0\n",
      "[400. 600.]\n"
     ]
    }
   ],
   "source": [
    "import numpy as np\n",
    "import tensorflow as tf\n",
    "\n",
    "tf.compat.v1.disable_eager_execution()\n",
    "ablev1 = tf.compat.v1\n",
    "\n",
    "# Define placeholder nodes\n",
    "a = ablev1.placeholder(tf.float32)\n",
    "b = ablev1.placeholder(tf.float32)\n",
    "c = a + b\n",
    "\n",
    "sess = ablev1.Session()\n",
    "\n",
    "result11 = sess.run(c, feed_dict={a: 1.0, b: 3.0})\n",
    "result12 = sess.run(c, feed_dict={a: [1.0, 2.0], b: [3.0, 4.0]})\n",
    "print(np.array(result11))\n",
    "print(np.array(result12))\n",
    "\n",
    "d = 100 * c\n",
    "\n",
    "result21 = sess.run(d, feed_dict={a: 1.0, b: 3.0})\n",
    "result22 = sess.run(d, feed_dict={a: [1.0, 2.0], b: [3.0, 4.0]})\n",
    "print(np.array(result21))\n",
    "print(np.array(result22))\n",
    "\n",
    "sess.close()"
   ]
  },
  {
   "cell_type": "markdown",
   "metadata": {},
   "source": [
    "## <span style=\"font-size:22px\">TensorFlow variable nodes - tf.Variable(⋯)</span>"
   ]
  },
  {
   "cell_type": "code",
   "execution_count": 12,
   "metadata": {},
   "outputs": [
    {
     "name": "stdout",
     "output_type": "stream",
     "text": [
      "step = 1 , W1 = [0.41654497] , b1 = [0.0655947]\n",
      "           W2 = [[1.1412696  0.13369712]] , b2 = [[-1.0886347  0.5165191]]\n",
      "step = 2 , W1 = [-0.583455] , b1 = [-0.9344053]\n",
      "           W2 = [[ 0.14126956 -0.86630285]] , b2 = [[-2.0886347  -0.48348087]]\n",
      "step = 3 , W1 = [-2.583455] , b1 = [-2.9344053]\n",
      "           W2 = [[-1.8587304 -2.866303 ]] , b2 = [[-4.0886345 -2.483481 ]]\n"
     ]
    }
   ],
   "source": [
    "import numpy as np\n",
    "import tensorflow as tf\n",
    "\n",
    "tf.compat.v1.disable_eager_execution()\n",
    "ablev1 = tf.compat.v1\n",
    "\n",
    "W1 = ablev1.Variable(ablev1.random_normal([1]))\n",
    "b1 = ablev1.Variable(ablev1.random_normal([1]))\n",
    "\n",
    "W2 = ablev1.Variable(ablev1.random_normal([1, 2]))\n",
    "b2 = ablev1.Variable(ablev1.random_normal([1, 2]))\n",
    "\n",
    "sess = ablev1.Session()\n",
    "\n",
    "sess.run(ablev1.global_variables_initializer())\n",
    "\n",
    "\n",
    "for step in range(3):\n",
    "    W1 = W1 - step\n",
    "    b1 = b1 - step\n",
    "\n",
    "    W2 = W2 - step\n",
    "    b2 = b2 - step\n",
    "\n",
    "    print(\"step =\", step+1, \", W1 =\", np.array(sess.run(W1)), \", b1 =\", np.array(sess.run(b1)))\n",
    "    print(\"          \", \"W2 =\", np.array(sess.run(W2)), \", b2 =\", np.array(sess.run(b2)))\n",
    "\n",
    "sess.close()"
   ]
  }
 ],
 "metadata": {
  "kernelspec": {
   "display_name": "Python 3",
   "language": "python",
   "name": "python3"
  },
  "language_info": {
   "codemirror_mode": {
    "name": "ipython",
    "version": 3
   },
   "file_extension": ".py",
   "mimetype": "text/x-python",
   "name": "python",
   "nbconvert_exporter": "python",
   "pygments_lexer": "ipython3",
   "version": "3.9.13"
  }
 },
 "nbformat": 4,
 "nbformat_minor": 2
}
